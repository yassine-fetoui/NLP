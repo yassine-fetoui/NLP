{
  "nbformat": 4,
  "nbformat_minor": 0,
  "metadata": {
    "colab": {
      "private_outputs": true,
      "provenance": [],
      "authorship_tag": "ABX9TyOrucSy+Ufnd6pEIPRGaaNZ",
      "include_colab_link": true
    },
    "kernelspec": {
      "name": "python3",
      "display_name": "Python 3"
    },
    "language_info": {
      "name": "python"
    }
  },
  "cells": [
    {
      "cell_type": "markdown",
      "metadata": {
        "id": "view-in-github",
        "colab_type": "text"
      },
      "source": [
        "<a href=\"https://colab.research.google.com/github/yassine-fetoui/NLP/blob/main/LSTM_Stock_Market_prediction.ipynb\" target=\"_parent\"><img src=\"https://colab.research.google.com/assets/colab-badge.svg\" alt=\"Open In Colab\"/></a>"
      ]
    },
    {
      "cell_type": "code",
      "source": [
        "import yfinance as yf\n",
        "\n",
        "# Define the ticker symbol\n",
        "ticker_symbol = 'AAPL'\n",
        "\n",
        "# Get data on this ticker\n",
        "ticker_data = yf.Ticker(ticker_symbol)\n",
        "\n",
        "# Get the historical prices for this ticker\n",
        "ticker_df = ticker_data.history(period='1d', start='2019-1-1', end='2023-12-31')\n",
        "\n",
        "# Display the first few rows\n",
        "print(ticker_df.head())\n"
      ],
      "metadata": {
        "id": "gqB8_fhWNXCI"
      },
      "execution_count": null,
      "outputs": []
    },
    {
      "cell_type": "code",
      "source": [
        "import pandas as pd\n",
        "\n",
        "\n",
        "df=pd.DataFrame(ticker_df)"
      ],
      "metadata": {
        "id": "-xpq4HyVnayt"
      },
      "execution_count": null,
      "outputs": []
    },
    {
      "cell_type": "code",
      "source": [
        "df.head()"
      ],
      "metadata": {
        "id": "3cqcSWSQnhyh"
      },
      "execution_count": null,
      "outputs": []
    },
    {
      "cell_type": "code",
      "source": [
        "df2=df.reset_index()['Close']"
      ],
      "metadata": {
        "id": "Q9SAGFOhoaDF"
      },
      "execution_count": null,
      "outputs": []
    },
    {
      "cell_type": "code",
      "source": [
        "df2.head()"
      ],
      "metadata": {
        "id": "e3W0kAPyoiiy"
      },
      "execution_count": null,
      "outputs": []
    },
    {
      "cell_type": "code",
      "source": [],
      "metadata": {
        "id": "fPQzLHj1pm_g"
      },
      "execution_count": null,
      "outputs": []
    },
    {
      "cell_type": "code",
      "source": [
        "df2.shape"
      ],
      "metadata": {
        "id": "U2skLcXUotX_"
      },
      "execution_count": null,
      "outputs": []
    },
    {
      "cell_type": "code",
      "source": [
        "import matplotlib.pyplot as plt\n"
      ],
      "metadata": {
        "id": "Hvnh9yFSpaFF"
      },
      "execution_count": null,
      "outputs": []
    },
    {
      "cell_type": "code",
      "source": [
        "plt.plot(df2)"
      ],
      "metadata": {
        "id": "HsNkfalLpdUa"
      },
      "execution_count": null,
      "outputs": []
    },
    {
      "cell_type": "markdown",
      "source": [
        "## *LSTM are sensible to the scale of the data. so wa apply MinMax scaler*"
      ],
      "metadata": {
        "id": "TQFQl0aAqgJp"
      }
    },
    {
      "cell_type": "code",
      "source": [
        "import numpy as np\n",
        "from  sklearn.preprocessing import MinMaxScaler"
      ],
      "metadata": {
        "id": "TJSQWk_hpqtv"
      },
      "execution_count": null,
      "outputs": []
    },
    {
      "cell_type": "code",
      "source": [
        "scaler=MinMaxScaler(feature_range=(0,1))\n",
        "df2=scaler.fit_transform(np.array(df2).reshape(-1,1))\n"
      ],
      "metadata": {
        "id": "kpNKcddUqAII"
      },
      "execution_count": null,
      "outputs": []
    },
    {
      "cell_type": "code",
      "source": [
        "df2.shape"
      ],
      "metadata": {
        "id": "v_Li5wDJqXGF"
      },
      "execution_count": null,
      "outputs": []
    },
    {
      "cell_type": "code",
      "source": [
        "len(df2)"
      ],
      "metadata": {
        "id": "0G-MBlDVqcD3"
      },
      "execution_count": null,
      "outputs": []
    },
    {
      "cell_type": "code",
      "source": [
        "  pd.DataFrame(df2).head()"
      ],
      "metadata": {
        "id": "apyrRytktRaM"
      },
      "execution_count": null,
      "outputs": []
    },
    {
      "cell_type": "code",
      "source": [
        "#Splitting Data\n",
        "train_size=int(len(df2)*0.65)\n",
        "test_size=len(df2)-train_size\n",
        "\n",
        "train_data = df2[0:train_size, :]  # Rows from 0 to train_size (exclusive), all columns\n",
        "test_data = df2[train_size:len(df2), :1]  #"
      ],
      "metadata": {
        "id": "W6E1TbUTq9_L"
      },
      "execution_count": null,
      "outputs": []
    },
    {
      "cell_type": "code",
      "source": [
        "train_size"
      ],
      "metadata": {
        "id": "Tvw7p07ReXcq"
      },
      "execution_count": null,
      "outputs": []
    },
    {
      "cell_type": "code",
      "source": [
        "test_data[:5]"
      ],
      "metadata": {
        "id": "LFAseGD_yg81"
      },
      "execution_count": null,
      "outputs": []
    },
    {
      "cell_type": "code",
      "source": [
        "pd.DataFrame(train_data).head()"
      ],
      "metadata": {
        "id": "lIcU_EUAyBM5"
      },
      "execution_count": null,
      "outputs": []
    },
    {
      "cell_type": "code",
      "source": [
        "# convert any array of values into dataset matrix\n",
        "def create_dataset(dataset, t_step=1):\n",
        "  dataX,dataY=[],[]\n",
        "  for i in range(len(dataset)-t_step-1):\n",
        "    a=dataset[i:(i+t_step),0]\n",
        "    dataX.append(a)\n",
        "    dataY.append(dataset[i+t_step,0])\n",
        "  return np.array(dataX),np.array(dataY)"
      ],
      "metadata": {
        "id": "CebTAlU-uQxS"
      },
      "execution_count": null,
      "outputs": []
    },
    {
      "cell_type": "code",
      "source": [
        "train_size, test_size"
      ],
      "metadata": {
        "id": "Vui1Jyxs9DyB"
      },
      "execution_count": null,
      "outputs": []
    },
    {
      "cell_type": "code",
      "source": [
        "time_step=100\n",
        "X_train ,y_train=create_dataset(train_data,time_step)\n",
        "X_test, y_test=create_dataset(test_data,time_step)"
      ],
      "metadata": {
        "id": "PUtl0C8y9ZkE"
      },
      "execution_count": null,
      "outputs": []
    },
    {
      "cell_type": "code",
      "source": [
        "pd.DataFrame(y_train).head()"
      ],
      "metadata": {
        "id": "XhT_KSilhQ-M"
      },
      "execution_count": null,
      "outputs": []
    },
    {
      "cell_type": "code",
      "source": [
        "print(X_test.shape) , print(y_test.shape)"
      ],
      "metadata": {
        "id": "JJpxoH_FieZS"
      },
      "execution_count": null,
      "outputs": []
    },
    {
      "cell_type": "code",
      "source": [
        "X_train = X_train.reshape(X_train.shape[0],X_train.shape[1],1)\n",
        "X_test = X_test.reshape(X_test.shape[0],X_test.shape[1],1)"
      ],
      "metadata": {
        "id": "ARYCO_2qjOQc"
      },
      "execution_count": null,
      "outputs": []
    },
    {
      "cell_type": "code",
      "source": [],
      "metadata": {
        "id": "HFZCTa3aCMiJ"
      },
      "execution_count": null,
      "outputs": []
    },
    {
      "cell_type": "code",
      "source": [],
      "metadata": {
        "id": "rLaEzNURpImC"
      },
      "execution_count": null,
      "outputs": []
    },
    {
      "cell_type": "code",
      "source": [
        "X_train.shape"
      ],
      "metadata": {
        "id": "yZ3eicf4pCNO"
      },
      "execution_count": null,
      "outputs": []
    },
    {
      "cell_type": "code",
      "source": [
        "from tensorflow.keras.models import Sequential\n",
        "from tensorflow.keras.layers import Dense\n",
        "from tensorflow.keras.layers import LSTM\n"
      ],
      "metadata": {
        "id": "jjQygLYMje6a"
      },
      "execution_count": null,
      "outputs": []
    },
    {
      "cell_type": "code",
      "source": [
        "model=Sequential(name=\"Stock\")\n",
        "model.add(LSTM(50,return_sequences=True,input_shape=(100,1)))\n",
        "model.add(LSTM(50,return_sequences=True))\n",
        "model.add(LSTM(50))\n",
        "model.add(Dense(1))\n",
        "model.compile(loss=\"mean_squared_error\",optimizer=\"adam\")"
      ],
      "metadata": {
        "id": "Q4mvtXOzp3ZN"
      },
      "execution_count": null,
      "outputs": []
    },
    {
      "cell_type": "code",
      "source": [
        "model.summary()"
      ],
      "metadata": {
        "id": "BWFkWx_Vr9Em"
      },
      "execution_count": null,
      "outputs": []
    },
    {
      "cell_type": "code",
      "source": [
        "model.fit(X_train,y_train,validation_data=(X_test,y_test),epochs=70,batch_size=64,verbose=1)"
      ],
      "metadata": {
        "id": "FqrLL8lb1eVL"
      },
      "execution_count": null,
      "outputs": []
    },
    {
      "cell_type": "code",
      "source": [
        "import tensorflow as tf\n"
      ],
      "metadata": {
        "id": "GmCp0hHV1mce"
      },
      "execution_count": null,
      "outputs": []
    },
    {
      "cell_type": "code",
      "source": [
        "tf.__version__"
      ],
      "metadata": {
        "id": "BlllAvzI5Atq"
      },
      "execution_count": null,
      "outputs": []
    },
    {
      "cell_type": "code",
      "source": [
        "train_predict=model.predict(X_train)"
      ],
      "metadata": {
        "id": "PfzTVomg5G6f"
      },
      "execution_count": null,
      "outputs": []
    },
    {
      "cell_type": "code",
      "source": [
        "test_predict=model.predict(X_test)"
      ],
      "metadata": {
        "id": "x-YHy6Wn5Pmg"
      },
      "execution_count": null,
      "outputs": []
    },
    {
      "cell_type": "code",
      "source": [
        "train_predict=scaler.inverse_transform(train_predict)\n",
        "test_predict=scaler.inverse_transform(test_predict)"
      ],
      "metadata": {
        "id": "FDfrnpP_CUTR"
      },
      "execution_count": null,
      "outputs": []
    },
    {
      "cell_type": "code",
      "source": [
        "train_predict"
      ],
      "metadata": {
        "id": "uhjDv3RH3YtM"
      },
      "execution_count": null,
      "outputs": []
    },
    {
      "cell_type": "code",
      "source": [
        "import math\n",
        "from sklearn.metrics import mean_squared_error\n",
        "\n",
        "print(math.sqrt(mean_squared_error(y_train,train_predict)))\n"
      ],
      "metadata": {
        "id": "_getwvLfENpZ"
      },
      "execution_count": null,
      "outputs": []
    },
    {
      "cell_type": "code",
      "source": [
        "look_back = 100\n",
        "#trainpredictplot=np.empty_like(df2)\n",
        "#trainpredictplot[:,:]=np.nan\n",
        "trainpredictplot[look_back:len(train_predict)+look_back,:]=train_predict\n",
        "\n",
        "#testPredictPlot=np.empty_like(df2)\n",
        "#testPredictPlot[:,:]=np.nan\n",
        "testPredictPlot[len(train_predict)+(look_back*2)+1:len(df2)-1,:] = test_predict\n",
        "\n",
        "plt.plot(scaler.inverse_transform(df2))\n",
        "plt.plot(testPredictPlot)\n",
        "plt.plot(trainpredictplot)\n",
        "\n",
        "plt.show()"
      ],
      "metadata": {
        "id": "M1m3nG9CEzOS"
      },
      "execution_count": null,
      "outputs": []
    },
    {
      "cell_type": "code",
      "source": [
        "len(test_data)"
      ],
      "metadata": {
        "id": "3txFbA9w9nFG"
      },
      "execution_count": null,
      "outputs": []
    },
    {
      "cell_type": "code",
      "source": [
        "x_input.shape"
      ],
      "metadata": {
        "id": "RUU9YN5sX4oS"
      },
      "execution_count": null,
      "outputs": []
    },
    {
      "cell_type": "code",
      "source": [
        "\n",
        "x_input=test_data[341:].reshape(1,-1)\n",
        "x_input.shape"
      ],
      "metadata": {
        "id": "RDU9vqq6XX6f"
      },
      "execution_count": null,
      "outputs": []
    },
    {
      "cell_type": "code",
      "source": [
        "temp_input=list(x_input)\n",
        "temp_input=temp_input[0].tolist()"
      ],
      "metadata": {
        "id": "VU3zN74eVFHz"
      },
      "execution_count": null,
      "outputs": []
    },
    {
      "cell_type": "code",
      "source": [
        "a = ([1,2,3], [4,5,6])                         # a is array-like\n",
        "np.empty_like(a)"
      ],
      "metadata": {
        "id": "G1nd1Y-UXnIz"
      },
      "execution_count": null,
      "outputs": []
    },
    {
      "cell_type": "code",
      "source": [
        "len(temp_input)"
      ],
      "metadata": {
        "id": "9CIfA2jf4r5R"
      },
      "execution_count": null,
      "outputs": []
    },
    {
      "cell_type": "code",
      "source": [
        "from numpy import array\n",
        "\n",
        "lst_output=[]\n",
        "n_steps=100\n",
        "\n",
        "i=0\n",
        "while(i<30):\n",
        "  if(len(temp_input)>100):\n",
        "    x_input=np.array(temp_input[1:])\n",
        "    x_input=x_input.reshape(1,-1)\n",
        "    x_input= x_input.reshape((1,n_steps,1))\n",
        "    y_hat=model.predict(x_input,verbose=0)\n",
        "    print('{} day output {}'.format(i, y_hat))\n",
        "    temp_input.extend(y_hat[0].tolist())\n",
        "    temp_input=temp_input[1:]\n",
        "\n",
        "    lst_output.extend(y_hat.tolist())\n",
        "    i+=1\n",
        "  else :\n",
        "    x_input= x_input.reshape((1,n_steps,1))\n",
        "    y_hat=model.predict(x_input,verbose=0)\n",
        "    print(y_hat[0])\n",
        "    temp_input.extend(y_hat[0].tolist())\n",
        "    print(len(temp_input))\n",
        "    lst_output.extend(y_hat.tolist())\n",
        "    i+=1\n",
        "print(lst_output)\n",
        "\n",
        "\n",
        "\n"
      ],
      "metadata": {
        "id": "-i9tHbD-3h1b"
      },
      "execution_count": null,
      "outputs": []
    },
    {
      "cell_type": "code",
      "source": [
        "new_day=np.arange(1, 101)\n",
        "\n",
        "pred_day=np.arange(101,131)\n"
      ],
      "metadata": {
        "id": "1bXYwfpP7SXx"
      },
      "execution_count": null,
      "outputs": []
    },
    {
      "cell_type": "code",
      "source": [
        "df22=df2.tolist()\n",
        "df22.extend(lst_output)\n",
        "\n"
      ],
      "metadata": {
        "id": "CIzWOoyF8EaW"
      },
      "execution_count": null,
      "outputs": []
    },
    {
      "cell_type": "code",
      "source": [
        "x_input.shape"
      ],
      "metadata": {
        "id": "YcM0vbFna_ew"
      },
      "execution_count": null,
      "outputs": []
    },
    {
      "cell_type": "code",
      "source": [
        "train_size"
      ],
      "metadata": {
        "id": "EUal8vmfen7V"
      },
      "execution_count": null,
      "outputs": []
    },
    {
      "cell_type": "code",
      "source": [
        "plt.plot(new_day,scaler.inverse_transform(df2[1158:]))\n",
        "plt.plot(pred_day,scaler.inverse_transform(lst_output))\n"
      ],
      "metadata": {
        "id": "WLzHs7uH8EW7"
      },
      "execution_count": null,
      "outputs": []
    },
    {
      "cell_type": "code",
      "source": [
        "my_list=[\"hi\", \"coka\"]\n",
        "new_list=[5,3,5]\n",
        "\n",
        "my_list.extend(new_list)\n",
        "print(my_list)"
      ],
      "metadata": {
        "id": "chyvCzKSXC_G"
      },
      "execution_count": null,
      "outputs": []
    },
    {
      "cell_type": "code",
      "source": [
        "plt.plot(df22[1200:])"
      ],
      "metadata": {
        "id": "4GUEN29YfFPL"
      },
      "execution_count": null,
      "outputs": []
    }
  ]
}
