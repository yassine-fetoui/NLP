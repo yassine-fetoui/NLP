{
  "nbformat": 4,
  "nbformat_minor": 0,
  "metadata": {
    "colab": {
      "private_outputs": true,
      "provenance": [],
      "mount_file_id": "1S6Jd0RT9JqUtXfnKdupFMRr7nnPOvxmo",
      "authorship_tag": "ABX9TyMAD127BFcvrnDNaeUyyj5M",
      "include_colab_link": true
    },
    "kernelspec": {
      "name": "python3",
      "display_name": "Python 3"
    },
    "language_info": {
      "name": "python"
    }
  },
  "cells": [
    {
      "cell_type": "markdown",
      "metadata": {
        "id": "view-in-github",
        "colab_type": "text"
      },
      "source": [
        "<a href=\"https://colab.research.google.com/github/yassine-fetoui/NLP/blob/main/Sentiment_Analysis_NLP_using_Machine_Learning/Sentiment_Analysis_NLP_using_Machine_Learning.ipynb\" target=\"_parent\"><img src=\"https://colab.research.google.com/assets/colab-badge.svg\" alt=\"Open In Colab\"/></a>"
      ]
    },
    {
      "cell_type": "code",
      "execution_count": null,
      "metadata": {
        "id": "tRVV8nPXIrQU"
      },
      "outputs": [],
      "source": [
        "import numpy as np\n",
        "import pandas as pd\n",
        "import matplotlib.pyplot as plt\n",
        "import seaborn as sns\n",
        "%matplotlib inline\n"
      ]
    },
    {
      "cell_type": "markdown",
      "source": [
        "**Restaurant Reviews NLP | Sentiment Analysis**"
      ],
      "metadata": {
        "id": "U6xuUb-7JEJY"
      }
    },
    {
      "cell_type": "code",
      "source": [
        "data=pd.read_csv('/content/drive/MyDrive/Restaurant_Reviews.tsv',sep='\\t',quoting=3)"
      ],
      "metadata": {
        "id": "VukKHcpiJOy2"
      },
      "execution_count": null,
      "outputs": []
    },
    {
      "cell_type": "code",
      "source": [
        "data.head()"
      ],
      "metadata": {
        "id": "RSfCCF8RysMQ"
      },
      "execution_count": null,
      "outputs": []
    },
    {
      "cell_type": "code",
      "source": [
        "data.info()"
      ],
      "metadata": {
        "id": "3yk_jpUoKfbE"
      },
      "execution_count": null,
      "outputs": []
    },
    {
      "cell_type": "markdown",
      "source": [
        "**Explorating Data**"
      ],
      "metadata": {
        "id": "UuVogNcUyX12"
      }
    },
    {
      "cell_type": "code",
      "source": [
        "data[\"Liked\"].value_counts()# exactly balanced data"
      ],
      "metadata": {
        "id": "9xZXOiXSriAt"
      },
      "execution_count": null,
      "outputs": []
    },
    {
      "cell_type": "code",
      "source": [
        "sns.countplot(x=data[\"Liked\"])"
      ],
      "metadata": {
        "id": "tGUq2O_Vy4gj"
      },
      "execution_count": null,
      "outputs": []
    },
    {
      "cell_type": "code",
      "source": [
        "data.isnull().sum()"
      ],
      "metadata": {
        "id": "dugqfn-PzL-v"
      },
      "execution_count": null,
      "outputs": []
    },
    {
      "cell_type": "code",
      "source": [
        "data[\"Review\"].apply(len).max()"
      ],
      "metadata": {
        "id": "oQvnpaNaz357"
      },
      "execution_count": null,
      "outputs": []
    },
    {
      "cell_type": "code",
      "source": [
        "data[\"Review\"].apply(len).plot(kind=\"hist\")"
      ],
      "metadata": {
        "id": "EAattzOwzUsN"
      },
      "execution_count": null,
      "outputs": []
    },
    {
      "cell_type": "code",
      "source": [
        "data[\"Review letter count\"]= data[\"Review\"].apply(len)"
      ],
      "metadata": {
        "id": "GWU8Jq7Bzs_u"
      },
      "execution_count": null,
      "outputs": []
    },
    {
      "cell_type": "code",
      "source": [
        "data.head()"
      ],
      "metadata": {
        "id": "VVKHY95V1Eoq"
      },
      "execution_count": null,
      "outputs": []
    },
    {
      "cell_type": "code",
      "source": [
        "data.iloc[data[\"Review letter count\"].idxmax()][0]"
      ],
      "metadata": {
        "id": "qe1uJByq1Iy-"
      },
      "execution_count": null,
      "outputs": []
    },
    {
      "cell_type": "markdown",
      "source": [
        "**Pre-Processing Data**"
      ],
      "metadata": {
        "id": "h51YtRGL2bW9"
      }
    },
    {
      "cell_type": "code",
      "source": [
        "data['Review'][0]"
      ],
      "metadata": {
        "id": "ldxRw4GT2bLd"
      },
      "execution_count": null,
      "outputs": []
    },
    {
      "cell_type": "code",
      "source": [
        "\"\"\"import string\n",
        "string.punctuation\"\"\"\n",
        "# the punctuation sometimes have a significant reference"
      ],
      "metadata": {
        "id": "q_7LuC832GML"
      },
      "execution_count": null,
      "outputs": []
    },
    {
      "cell_type": "code",
      "source": [
        "import nltk #natural language toolkit"
      ],
      "metadata": {
        "id": "6mzg-xtp8ivl"
      },
      "execution_count": null,
      "outputs": []
    },
    {
      "cell_type": "code",
      "source": [
        "from nltk.corpus import stopwords\n"
      ],
      "metadata": {
        "id": "52vmqFp53qgc"
      },
      "execution_count": null,
      "outputs": []
    },
    {
      "cell_type": "code",
      "source": [
        "nltk.download('stopwords')"
      ],
      "metadata": {
        "id": "iUVWTNF68sUY"
      },
      "execution_count": null,
      "outputs": []
    },
    {
      "cell_type": "code",
      "source": [
        "stopwords.words('english')"
      ],
      "metadata": {
        "id": "5lKwf9HH8yMN"
      },
      "execution_count": null,
      "outputs": []
    },
    {
      "cell_type": "code",
      "source": [
        "s = data['Review'][0]"
      ],
      "metadata": {
        "id": "nK7yEZcr89sy"
      },
      "execution_count": null,
      "outputs": []
    },
    {
      "cell_type": "code",
      "source": [
        "data['Review'][0]"
      ],
      "metadata": {
        "id": "T2Nzqrf3BLjh"
      },
      "execution_count": null,
      "outputs": []
    },
    {
      "cell_type": "code",
      "source": [
        "import re\n",
        "s=re.sub('[^a-zA-Z]',' ',s)"
      ],
      "metadata": {
        "id": "XPeuxcLV9m-g"
      },
      "execution_count": null,
      "outputs": []
    },
    {
      "cell_type": "code",
      "source": [
        "s=s.lower()\n",
        "s=s.split()\n"
      ],
      "metadata": {
        "id": "McndwCX29qP9"
      },
      "execution_count": null,
      "outputs": []
    },
    {
      "cell_type": "code",
      "source": [
        "s"
      ],
      "metadata": {
        "id": "uR5vTjUR-ER9"
      },
      "execution_count": null,
      "outputs": []
    },
    {
      "cell_type": "code",
      "source": [
        "temp=[]\n",
        "for i in s:\n",
        "  if i not in stopwords.words('english'):\n",
        "    temp.append(i)\n",
        "temp"
      ],
      "metadata": {
        "id": "NiKXydjO-NUV"
      },
      "execution_count": null,
      "outputs": []
    },
    {
      "cell_type": "code",
      "source": [
        "s=' '.join(temp)\n",
        "s\n",
        "#"
      ],
      "metadata": {
        "id": "fZCDCg09-o7v"
      },
      "execution_count": null,
      "outputs": []
    },
    {
      "cell_type": "code",
      "source": [
        "from nltk.stem.porter import PorterStemmer\n",
        "ps=PorterStemmer()"
      ],
      "metadata": {
        "id": "SDTBYxL8_U4i"
      },
      "execution_count": null,
      "outputs": []
    },
    {
      "cell_type": "code",
      "source": [
        "s=ps.stem(s)\n",
        "print(s)"
      ],
      "metadata": {
        "id": "QSxUx6Xj_7uS"
      },
      "execution_count": null,
      "outputs": []
    },
    {
      "cell_type": "code",
      "source": [
        "import spacy\n",
        "\n",
        "# Load Spacy's English language model\n",
        "nlp = spacy.load(\"en_core_web_sm\")\n",
        "\n",
        "# Function to lemmatize text\n",
        "def lemmatize_text(text):\n",
        "    doc = nlp(text)\n",
        "    return \" \".join([token.lemma_ for token in doc])\n",
        "\n",
        "\n"
      ],
      "metadata": {
        "id": "bLPWwSWrAnUM"
      },
      "execution_count": null,
      "outputs": []
    },
    {
      "cell_type": "code",
      "source": [
        "\n",
        "text = data['Review'][0]\n",
        "lemmatized_text = lemmatize_text(text)\n",
        "print(lemmatized_text)  # Output: run run run\n"
      ],
      "metadata": {
        "id": "P2GctOKaA9Sa"
      },
      "execution_count": null,
      "outputs": []
    },
    {
      "cell_type": "code",
      "source": [
        "s"
      ],
      "metadata": {
        "id": "5ll3caddFGze"
      },
      "execution_count": null,
      "outputs": []
    },
    {
      "cell_type": "code",
      "source": [
        "from sklearn.feature_extraction.text import CountVectorizer\n",
        "cv=CountVectorizer()\n",
        "cv.fit_transform(s.split()).toarray()"
      ],
      "metadata": {
        "id": "0LKvZ4ErCNQ3"
      },
      "execution_count": null,
      "outputs": []
    },
    {
      "cell_type": "code",
      "source": [
        "corpus = []\n",
        "\n",
        "for i in range(len(data)):\n",
        "  s = re.sub('[^a-zA-Z]',' ', data[\"Review\"][i])\n",
        "  s = s.lower()\n",
        "  s = s.split()\n",
        "  temp=[]\n",
        "  for i in s:\n",
        "    if i not in stopwords.words('english'):\n",
        "      temp.append(ps.stem(i))\n",
        "  s=' '.join(temp)\n",
        "  s=ps.stem(s)\n",
        "  corpus.append(s)\n"
      ],
      "metadata": {
        "id": "wCT5AgOhEFYA"
      },
      "execution_count": null,
      "outputs": []
    },
    {
      "cell_type": "code",
      "source": [
        "cv.fit_transform(corpus).toarray().shape"
      ],
      "metadata": {
        "id": "rtg6Z7pFJ8-w"
      },
      "execution_count": null,
      "outputs": []
    },
    {
      "cell_type": "code",
      "source": [
        "from sklearn.model_selection import train_test_split\n"
      ],
      "metadata": {
        "id": "lM32ewqOLf7C"
      },
      "execution_count": null,
      "outputs": []
    },
    {
      "cell_type": "code",
      "source": [
        "X=cv.fit_transform(corpus).toarray()\n",
        "y=data[\"Liked\"]"
      ],
      "metadata": {
        "id": "a4SjShIhLuPH"
      },
      "execution_count": null,
      "outputs": []
    },
    {
      "cell_type": "code",
      "source": [
        "y"
      ],
      "metadata": {
        "id": "NQqMW3RrMJDL"
      },
      "execution_count": null,
      "outputs": []
    },
    {
      "cell_type": "code",
      "source": [
        "from sklearn.model_selection import train_test_split\n",
        "X_train, X_test, y_train, y_test = train_test_split(X, y, test_size = 0.20, random_state = 42)"
      ],
      "metadata": {
        "id": "30iLYexXMrb-"
      },
      "execution_count": null,
      "outputs": []
    },
    {
      "cell_type": "markdown",
      "source": [
        "**Model Training & building**"
      ],
      "metadata": {
        "id": "jbeKVeGoNAig"
      }
    },
    {
      "cell_type": "code",
      "source": [
        "from sklearn.naive_bayes import MultinomialNB\n",
        "clf=MultinomialNB()\n",
        "clf.fit(X_train,y_train)\n",
        "\n"
      ],
      "metadata": {
        "id": "BKf55OSyMwmD"
      },
      "execution_count": null,
      "outputs": []
    },
    {
      "cell_type": "code",
      "source": [
        "y_pred=clf.predict(X_test)\n",
        "y_pred"
      ],
      "metadata": {
        "id": "wfnGB5pnNtjH"
      },
      "execution_count": null,
      "outputs": []
    },
    {
      "cell_type": "code",
      "source": [
        "y_test.values"
      ],
      "metadata": {
        "id": "Lm2U_L8rN_tY"
      },
      "execution_count": null,
      "outputs": []
    },
    {
      "cell_type": "markdown",
      "source": [
        "## **Evaluation**"
      ],
      "metadata": {
        "id": "FbvS9J1pOIxm"
      }
    },
    {
      "cell_type": "markdown",
      "source": [],
      "metadata": {
        "id": "yz_EjeqeOIus"
      }
    },
    {
      "cell_type": "code",
      "source": [
        "from sklearn.metrics import confusion_matrix,accuracy_score,classification_report"
      ],
      "metadata": {
        "id": "NW7uQBDRODuI"
      },
      "execution_count": null,
      "outputs": []
    },
    {
      "cell_type": "code",
      "source": [
        "print(confusion_matrix(y_test,y_pred))"
      ],
      "metadata": {
        "id": "Z82IFChLOVXV"
      },
      "execution_count": null,
      "outputs": []
    },
    {
      "cell_type": "code",
      "source": [
        "accuracy_score(y_test,y_pred)"
      ],
      "metadata": {
        "id": "bB5XzVrZOahe"
      },
      "execution_count": null,
      "outputs": []
    },
    {
      "cell_type": "code",
      "source": [
        "print(classification_report(y_test,y_pred))"
      ],
      "metadata": {
        "id": "JVAvD2wROiF8"
      },
      "execution_count": null,
      "outputs": []
    },
    {
      "cell_type": "markdown",
      "source": [
        "## **Deployment & Prodution**"
      ],
      "metadata": {
        "id": "1QIUB6ZdPCYZ"
      }
    },
    {
      "cell_type": "code",
      "source": [
        "import joblib\n",
        "joblib.dump(clf,'Restaurant_Review_Model.pkl')"
      ],
      "metadata": {
        "id": "byhEgcnWPIPq"
      },
      "execution_count": null,
      "outputs": []
    }
  ]
}